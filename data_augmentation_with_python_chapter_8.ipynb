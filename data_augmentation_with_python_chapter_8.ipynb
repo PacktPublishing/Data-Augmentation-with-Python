{
  "cells": [
    {
      "cell_type": "markdown",
      "metadata": {
        "id": "view-in-github",
        "colab_type": "text"
      },
      "source": [
        "<a href=\"https://colab.research.google.com/github/duchaba/Data-Augmentation-with-Python/blob/main/data_augmentation_with_python_chapter_8.ipynb\" target=\"_parent\"><img src=\"https://colab.research.google.com/assets/colab-badge.svg\" alt=\"Open In Colab\"/></a>"
      ]
    },
    {
      "cell_type": "markdown",
      "source": [
        "# Data Augmentation with Python, Chapter 8"
      ],
      "metadata": {
        "id": "rad13-eq4fAm"
      }
    },
    {
      "cell_type": "markdown",
      "source": [
        "## 🌻 Welcome to Chapter 8, \"Audio spectrograme Augmentation\"\n",
        "\n",
        "\n",
        "This chapter will cover the audio spectrogram standard format, variation of a spectrogram, Mel-spectrogram, Chroma Short-time Fourier transformation (STFT), and augmentation techniques. In particular, we will cover the following topics: \n",
        "\n",
        "- Initialize and download \n",
        "\n",
        "- Audio spectrogram \n",
        "\n",
        "- Various spectrogram format \n",
        "\n",
        "- Mel-spectrogram and Chroma STFT \n",
        "\n",
        "- Spectrogram augmentation  \n",
        "\n",
        "- Spectrogram image augmentation "
      ],
      "metadata": {
        "id": "1DlWAB8G4ijz"
      }
    },
    {
      "cell_type": "markdown",
      "source": [
        "# Load Notebook\n"
      ],
      "metadata": {
        "id": "ZZ8-JIXv6jmV"
      }
    },
    {
      "cell_type": "markdown",
      "source": [
        "- This Notebook original link is: \n",
        "  - https://github.com/PacktPublishing/Data-Augmentation-with-Python/blob/main/data_augmentation_with_python_chapter_7.ipynb"
      ],
      "metadata": {
        "id": "dOpu3yYb6rK_"
      }
    },
    {
      "cell_type": "markdown",
      "source": [
        "# GitHub Clone"
      ],
      "metadata": {
        "id": "4b52gSlp60SN"
      }
    },
    {
      "cell_type": "code",
      "source": [
        "# git version should be 2.17.1 or higher\n",
        "!git --version"
      ],
      "metadata": {
        "id": "6oeDAu1u6zWf"
      },
      "execution_count": null,
      "outputs": []
    },
    {
      "cell_type": "code",
      "source": [
        "url = 'https://github.com/PacktPublishing/Data-Augmentation-with-Python'\n",
        "!git clone {url}"
      ],
      "metadata": {
        "id": "J9buwUR767Te"
      },
      "execution_count": null,
      "outputs": []
    },
    {
      "cell_type": "code",
      "source": [
        "# (optional) list the notebook magic commands\n",
        "# %lsmagic"
      ],
      "metadata": {
        "id": "mLTEzhHWi5xg"
      },
      "execution_count": null,
      "outputs": []
    },
    {
      "cell_type": "markdown",
      "source": [
        "## Fetch file from URL (Optional)\n",
        "\n",
        "- Uncommend the below 2 code cells if you want to use URL and not Git Clone"
      ],
      "metadata": {
        "id": "lOawA01L7Ok0"
      }
    },
    {
      "cell_type": "code",
      "source": [
        "# import requests\n",
        "# #\n",
        "# def fetch_file(url, dst):\n",
        "#   downloaded_obj = requests.get(url)\n",
        "#   with open(dst, \"wb\") as file:\n",
        "#     file.write(downloaded_obj.content)\n",
        "#   return"
      ],
      "metadata": {
        "id": "HsmQ7rgj67Ww"
      },
      "execution_count": null,
      "outputs": []
    },
    {
      "cell_type": "code",
      "source": [
        "# url = ''\n",
        "# dst = 'pluto_chapter_1.py'\n",
        "# fetch_file(url,dst)"
      ],
      "metadata": {
        "id": "_nKp0nxT67aH"
      },
      "execution_count": null,
      "outputs": []
    },
    {
      "cell_type": "markdown",
      "source": [
        "# Run Pluto\n",
        "\n",
        "- Instantiate up Pluto, aka. \"Pluto, wake up!\""
      ],
      "metadata": {
        "id": "6462KTtr7cFQ"
      }
    },
    {
      "cell_type": "code",
      "source": [
        "# %% CARRY-OVER code install\n",
        "\n",
        "!pip install opendatasets --upgrade\n",
        "!pip install pyspellchecker \n",
        "!pip install audiomentations\n"
      ],
      "metadata": {
        "id": "jCGiTw16ZxVH"
      },
      "execution_count": null,
      "outputs": []
    },
    {
      "cell_type": "code",
      "source": [
        "#load and run the pluto chapter 7 Python code.\n",
        "pluto_file = 'Data-Augmentation-with-Python/pluto/pluto_chapter_7.py'\n",
        "%run {pluto_file}"
      ],
      "metadata": {
        "id": "u3zbkOO86_WB"
      },
      "execution_count": null,
      "outputs": []
    },
    {
      "cell_type": "markdown",
      "source": [
        "## Verify Pluto"
      ],
      "metadata": {
        "id": "yhRR0JSf746h"
      }
    },
    {
      "cell_type": "code",
      "source": [
        "pluto.say_sys_info()"
      ],
      "metadata": {
        "id": "nBIw7fiI6_Zy"
      },
      "execution_count": null,
      "outputs": []
    },
    {
      "cell_type": "code",
      "source": [
        "# # (optional) list attributes, function, and everything else\n",
        "# dir(pluto)"
      ],
      "metadata": {
        "id": "GmDlzR_Q7zCk"
      },
      "execution_count": null,
      "outputs": []
    },
    {
      "cell_type": "markdown",
      "source": [
        "## (Optional) Export to .py"
      ],
      "metadata": {
        "id": "LaURlsasaGuo"
      }
    },
    {
      "cell_type": "code",
      "source": [
        "pluto_chapter_8 = 'Data-Augmentation-with-Python/pluto/pluto_chapter_8.py'\n",
        "!cp {pluto_file} {pluto_chapter_8}"
      ],
      "metadata": {
        "id": "Gfx9Ai5Opyqp"
      },
      "execution_count": null,
      "outputs": []
    },
    {
      "cell_type": "markdown",
      "source": [
        "# ✋ Set up Kaggle username and app Key\n",
        "\n",
        "- Install the following libraries, and import it on the Notebook.\n",
        "- Follow by initialize Kaggle username, key and fetch methods.\n",
        "\n",
        "- STOP: Update your Kaggle access username or key first."
      ],
      "metadata": {
        "id": "kQ6ap39x8HyF"
      }
    },
    {
      "cell_type": "code",
      "source": [
        "# %%CARRY-OVER code \n",
        "\n",
        "# -------------------- : --------------------\n",
        "# READ ME\n",
        "# Chapter 2 begin:\n",
        "# Install the following libraries, and import it on the Notebook.\n",
        "# Follow by initialize Kaggle username, key and fetch methods.\n",
        "# STOP: Update your Kaggle access username or key first.\n",
        "# -------------------- : --------------------\n",
        "\n",
        "!pip install opendatasets --upgrade\n",
        "import opendatasets\n",
        "print(\"\\nrequired version 0.1.22 or higher: \", opendatasets.__version__)\n",
        "\n",
        "!pip install pyspellchecker \n",
        "import spellchecker\n",
        "print(\"\\nRequired version 0.7+\", spellchecker.__version__)\n",
        "\n",
        "# STOP: Update your Kaggle access username or key first.\n",
        "pluto.remember_kaggle_access_keys(\"duchaba\", \"059d7f10e1838693868b30e9dbb7c8ce\")\n",
        "pluto._write_kaggle_credit()\n",
        "import kaggle\n",
        "\n",
        "@add_method(PacktDataAug)\n",
        "def fetch_kaggle_comp_data(self,cname):\n",
        "  #self._write_kaggle_credit()  # need to run only once.\n",
        "  path = pathlib.Path(cname)\n",
        "  kaggle.api.competition_download_cli(str(path))\n",
        "  zipfile.ZipFile(f'{path}.zip').extractall(path)\n",
        "  return\n",
        "\n",
        "@add_method(PacktDataAug)\n",
        "def fetch_kaggle_dataset(self,url,dest=\"kaggle\"):\n",
        "  #self._write_kaggle_credit()    # need to run only once.\n",
        "  opendatasets.download(url,data_dir=dest)\n",
        "  return\n",
        "# -------------------- : --------------------\n"
      ],
      "metadata": {
        "id": "sf4Obdp-77CL"
      },
      "execution_count": null,
      "outputs": []
    },
    {
      "cell_type": "markdown",
      "source": [
        "# Fetch Kaggle Data"
      ],
      "metadata": {
        "id": "5BfHiMQE8XWp"
      }
    },
    {
      "cell_type": "markdown",
      "source": [
        "## Musical Emotions Classification"
      ],
      "metadata": {
        "id": "WSWTfhPU9YjQ"
      }
    },
    {
      "cell_type": "code",
      "source": [
        "%%time\n",
        "url = 'https://www.kaggle.com/datasets/kingofarmy/musical-emotions-classification'\n",
        "pluto.fetch_kaggle_dataset(url)"
      ],
      "metadata": {
        "id": "_TEFhsYs77Go"
      },
      "execution_count": null,
      "outputs": []
    },
    {
      "cell_type": "code",
      "source": [
        "f = 'kaggle/musical-emotions-classification/Train.csv'\n",
        "pluto.df_music_data = pluto.fetch_df(f)\n",
        "pluto.df_music_data.head(3)"
      ],
      "metadata": {
        "id": "_GHi9DnM77Kj"
      },
      "execution_count": null,
      "outputs": []
    },
    {
      "cell_type": "code",
      "source": [
        "# # /content/kaggle/musical-emotions-classification/Audio_Files/Audio_Files/Train/Happy/Happy10200.wav\n",
        "# # remove white space in directory and filename\n",
        "# # run this until no error/output\n",
        "# f = 'kaggle/sea-animals-image-dataste'\n",
        "# #!find {f} -name \"* *\" -type d | rename 's/ /_/g'\n",
        "# !find {f} -name \"* *\" -type f | rename 's/ /_/g'"
      ],
      "metadata": {
        "id": "a4eZj8aBKj-g"
      },
      "execution_count": null,
      "outputs": []
    },
    {
      "cell_type": "code",
      "source": [
        "# %%writefile -a {pluto_chapter_7}\n",
        "\n",
        "pluto.version = 7.0\n",
        "# augment full path\n",
        "@add_method(PacktDataAug)\n",
        "def _append_music_full_path(self,x):\n",
        "  y = re.findall('([a-zA-Z ]*)\\d*.*', x)[0]\n",
        "  return (f'kaggle/musical-emotions-classification/Audio_Files/Audio_Files/Train/{y}/{x}')\n",
        "#\n",
        "@add_method(PacktDataAug)\n",
        "def fetch_music_full_path(self, df):\n",
        "  df['fname'] = df.ImageID.apply(self._append_music_full_path)\n",
        "  return df"
      ],
      "metadata": {
        "id": "5zK1p7UBJoEW"
      },
      "execution_count": null,
      "outputs": []
    },
    {
      "cell_type": "code",
      "source": [
        "pluto.fetch_music_full_path(pluto.df_music_data)\n",
        "pluto.df_music_data.head(3)"
      ],
      "metadata": {
        "id": "M1Q_FAadP-Wm"
      },
      "execution_count": null,
      "outputs": []
    },
    {
      "cell_type": "markdown",
      "source": [
        "## Human Speech"
      ],
      "metadata": {
        "id": "5TDs0Iz0RCXb"
      }
    },
    {
      "cell_type": "code",
      "source": [
        "%%time\n",
        "url = 'https://www.kaggle.com/datasets/ejlok1/cremad'\n",
        "pluto.fetch_kaggle_dataset(url)"
      ],
      "metadata": {
        "id": "Q9o4H58gRBcO"
      },
      "execution_count": null,
      "outputs": []
    },
    {
      "cell_type": "code",
      "source": [
        "# /content/kaggle/cremad/AudioWAV/1001_DFA_ANG_XX.wav\n",
        "# change method name to make_dir_dframe\n",
        "f = 'kaggle/cremad/AudioWAV'\n",
        "pluto.df_voice_data = pluto.make_dir_dataframe(f)\n",
        "pluto.df_voice_data.head(3)"
      ],
      "metadata": {
        "id": "3zq3-nbPOFoG"
      },
      "execution_count": null,
      "outputs": []
    },
    {
      "cell_type": "code",
      "source": [
        "pluto.df_voice_data.head(3)"
      ],
      "metadata": {
        "id": "bOGSVseohWVQ"
      },
      "execution_count": null,
      "outputs": []
    },
    {
      "cell_type": "markdown",
      "source": [
        "## Urban sound"
      ],
      "metadata": {
        "id": "0kxU64ydU4Js"
      }
    },
    {
      "cell_type": "code",
      "source": [
        "%%time\n",
        "url = 'https://www.kaggle.com/datasets/rupakroy/urban-sound-8k'\n",
        "pluto.fetch_kaggle_dataset(url)"
      ],
      "metadata": {
        "id": "NUGSqM4wUaDH"
      },
      "execution_count": null,
      "outputs": []
    },
    {
      "cell_type": "code",
      "source": [
        "# /content/kaggle/urban-sound-8k/UrbanSound8K/UrbanSound8K/audio/fold1\n",
        "# change method name to make_dir_dframe\n",
        "f = 'kaggle/urban-sound-8k/UrbanSound8K/UrbanSound8K/audio'\n",
        "pluto.df_sound_data = pluto.make_dir_dataframe(f)\n",
        "pluto.df_sound_data.head(3)"
      ],
      "metadata": {
        "id": "ry1HB_qDUaGv"
      },
      "execution_count": null,
      "outputs": []
    },
    {
      "cell_type": "markdown",
      "source": [
        "# Audio control D Major"
      ],
      "metadata": {
        "id": "MKgYZXile7KL"
      }
    },
    {
      "cell_type": "code",
      "source": [
        "# %%writefile -a {pluto_chapter_7}\n",
        "\n",
        "f = 'Data-Augmentation-with-Python/pluto_data/control-d-major.mp3'\n",
        "data_amp, sam_rate, fname = pluto._fetch_audio_data(f)\n",
        "pluto.audio_control_dmajor = [data_amp, sam_rate, fname, f]"
      ],
      "metadata": {
        "id": "hGvl5_hsfA42"
      },
      "execution_count": null,
      "outputs": []
    },
    {
      "cell_type": "markdown",
      "source": [
        "# Double check on Waveform graph"
      ],
      "metadata": {
        "id": "VaB7rJ4IgL_E"
      }
    },
    {
      "cell_type": "code",
      "source": [
        "# double check on waveform graph from previous chapter\n",
        "pluto._draw_audio(data_amp, sam_rate, 'Original: ' + fname)\n",
        "# display audio \n",
        "display(IPython.display.Audio(data_amp, rate=sam_rate))"
      ],
      "metadata": {
        "id": "mg-sQtNhsHrs"
      },
      "execution_count": null,
      "outputs": []
    },
    {
      "cell_type": "code",
      "source": [
        "# (Optional) view raw data\n",
        "# pluto.audio_control_dmajor"
      ],
      "metadata": {
        "id": "PZMNzjv-0nUv"
      },
      "execution_count": null,
      "outputs": []
    },
    {
      "cell_type": "markdown",
      "source": [
        "# Spectrogram"
      ],
      "metadata": {
        "id": "8pc0SRoc10Ko"
      }
    },
    {
      "cell_type": "code",
      "source": [
        "# %%writefile -a {pluto_chapter_8}\n",
        "\n",
        "@add_method(PacktDataAug)\n",
        "def _draw_spectrogram(self, data_amp, sam_rate, \n",
        "  fname='Spectrogram',\n",
        "  window=matplotlib.mlab.window_hanning,\n",
        "  cmap='viridis',\n",
        "  sides='default',\n",
        "  mode='default'):\n",
        "  canvas, pic = matplotlib.pyplot.subplots(1, 1, figsize=(11, 5))\n",
        "  spec, freq, ts, ax = pic.specgram(data_amp, \n",
        "    Fs=sam_rate,\n",
        "    window=window,\n",
        "    cmap=cmap,\n",
        "    sides=sides,\n",
        "    mode=mode)\n",
        "  pic.set_xlabel('Time, Sampling Rate: '+str(sam_rate),fontsize=16.)\n",
        "  pic.set_ylabel('Frequency (Hz)',fontsize=16.)\n",
        "  pic.set_title(fname,fontsize=18.0)\n",
        "  #\n",
        "  # display and save image\n",
        "  canvas.tight_layout()\n",
        "  self._drop_image(canvas)\n",
        "  canvas.show()\n",
        "  return spec, freq, ts, ax"
      ],
      "metadata": {
        "id": "-nAToGMY-SK1"
      },
      "execution_count": null,
      "outputs": []
    },
    {
      "cell_type": "code",
      "source": [
        "# %%writefile -a {pluto_chapter_8}\n",
        "\n",
        "@add_method(PacktDataAug)\n",
        "def draw_spectrogram(self, df,\n",
        "  fname='Spectrogram',\n",
        "  window=matplotlib.mlab.window_hanning,\n",
        "  cmap='viridis',\n",
        "  sides='default',\n",
        "  mode='default'):\n",
        "  if (type(df) is list):\n",
        "    data_amp, sam_rate, fname, lname = df\n",
        "  else:\n",
        "    lname = self._fetch_1_sample(df)\n",
        "    data_amp, sam_rate, fname = self._fetch_audio_data(lname)\n",
        "  #\n",
        "  spec, freq, ts, ax = self._draw_spectrogram(data_amp, sam_rate,\n",
        "    fname='Spectrogram: '+fname,\n",
        "    window=window,\n",
        "    cmap=cmap,\n",
        "    sides=sides,\n",
        "    mode=mode)\n",
        "  # display audio \n",
        "  display(IPython.display.Audio(data_amp,rate=sam_rate))\n",
        "  return\n",
        "#\n",
        "@add_method(PacktDataAug)\n",
        "def _draw_melspectrogram(self, mel_db, sam_rate, data_amp,\n",
        "  fname='MelSpectrogram',\n",
        "  cmap='viridis',\n",
        "  y_axis='mel',\n",
        "  y_label='Mel scale (Hz)'):\n",
        "  canvas, pic = matplotlib.pyplot.subplots(1, 1, figsize=(11, 5))\n",
        "  #\n",
        "  img = librosa.display.specshow(mel_db, \n",
        "    sr=sam_rate,\n",
        "    x_axis='time',\n",
        "    y_axis=y_axis,\n",
        "    fmax=8000, \n",
        "    ax=pic,\n",
        "    cmap=cmap)\n",
        "  canvas.colorbar(img, ax=pic, format='%+2.0f dB')\n",
        "  #\n",
        "  pic.set_xlabel('Time, Sampling Rate: '+str(sam_rate),fontsize=16.)\n",
        "  pic.set_ylabel(y_label,fontsize=16.)\n",
        "  pic.set_title(fname,fontsize=18.0)\n",
        "  #\n",
        "  # display and save image\n",
        "  canvas.tight_layout()\n",
        "  self._drop_image(canvas)\n",
        "  canvas.show()\n",
        "  # display audio \n",
        "  display(IPython.display.Audio(data_amp,rate=sam_rate))\n",
        "  return\n",
        "#\n",
        "@add_method(PacktDataAug)\n",
        "def draw_melspectrogram(self, df,\n",
        "  fname='MelSpectrogram',\n",
        "  cmap='viridis',\n",
        "  is_chroma=False):\n",
        "  if (type(df) is list):\n",
        "    data_amp, sam_rate, fname, lname = df\n",
        "  else:\n",
        "    lname = self._fetch_1_sample(df)\n",
        "    data_amp, sam_rate, fname = self._fetch_audio_data(lname)\n",
        "  #\n",
        "  if (is_chroma):\n",
        "    mel_db = librosa.feature.chroma_stft(data_amp, \n",
        "      sr=sam_rate)\n",
        "    yax = 'chroma'\n",
        "    ylab = 'Pitch class'\n",
        "    tname = 'Chroma STFT: ' + fname\n",
        "  else:\n",
        "    mel = librosa.feature.melspectrogram(y=data_amp, \n",
        "    sr=sam_rate, \n",
        "    n_mels=128,\n",
        "    fmax=8000)\n",
        "    mel_db = librosa.power_to_db(mel, ref=numpy.max)\n",
        "    yax = 'mel'\n",
        "    ylab = 'Mel scale (Hz)'\n",
        "    tname = 'Melspectrogram: ' + fname\n",
        "  #\n",
        "  self._draw_melspectrogram(mel_db, sam_rate, data_amp,\n",
        "    cmap=cmap,\n",
        "    fname=tname,\n",
        "    y_axis=yax,\n",
        "    y_label = ylab)\n",
        "  return\n",
        "#"
      ],
      "metadata": {
        "id": "YaERQuFmDsDg"
      },
      "execution_count": null,
      "outputs": []
    },
    {
      "cell_type": "code",
      "source": [
        "pluto.draw_spectrogram(pluto.audio_control_dmajor)"
      ],
      "metadata": {
        "id": "VTBUoUheB_S3"
      },
      "execution_count": null,
      "outputs": []
    },
    {
      "cell_type": "code",
      "source": [
        "spec, freq, ts, ax = pluto._draw_spectrogram(pluto.audio_control_dmajor[0], pluto.audio_control_dmajor[1])"
      ],
      "metadata": {
        "id": "WuL_Xylvh6sn"
      },
      "execution_count": null,
      "outputs": []
    },
    {
      "cell_type": "markdown",
      "source": [
        "## Spectrogram parameters"
      ],
      "metadata": {
        "id": "y8wWvOPI19ij"
      }
    },
    {
      "cell_type": "code",
      "source": [
        "pluto.draw_spectrogram(pluto.df_music_data, cmap='plasma')"
      ],
      "metadata": {
        "id": "bLmsia_lFQAO"
      },
      "execution_count": null,
      "outputs": []
    },
    {
      "cell_type": "code",
      "source": [
        "pluto.draw_spectrogram(pluto.df_voice_data, cmap='cool')"
      ],
      "metadata": {
        "id": "Med4s4HGB_XG"
      },
      "execution_count": null,
      "outputs": []
    },
    {
      "cell_type": "code",
      "source": [
        "pluto.draw_spectrogram(pluto.df_sound_data, cmap='brg')"
      ],
      "metadata": {
        "id": "Fzax8BH-B_bW"
      },
      "execution_count": null,
      "outputs": []
    },
    {
      "cell_type": "code",
      "source": [
        "pluto.draw_spectrogram(pluto.audio_control_dmajor,\n",
        "  window=matplotlib.mlab.window_none)"
      ],
      "metadata": {
        "id": "oFavMUJSB_ew"
      },
      "execution_count": null,
      "outputs": []
    },
    {
      "cell_type": "code",
      "source": [
        "pluto.draw_spectrogram(pluto.df_voice_data,\n",
        "  cmap='cool',\n",
        "  window=matplotlib.mlab.window_none)"
      ],
      "metadata": {
        "id": "zl8Ks5x4B_iB"
      },
      "execution_count": null,
      "outputs": []
    },
    {
      "cell_type": "code",
      "source": [
        "pluto.draw_spectrogram(pluto.audio_control_dmajor,\n",
        "  window=matplotlib.mlab.window_none,\n",
        "  sides='twosided')"
      ],
      "metadata": {
        "id": "1g5G1xJ1B_lA"
      },
      "execution_count": null,
      "outputs": []
    },
    {
      "cell_type": "code",
      "source": [
        "pluto.draw_spectrogram(pluto.df_music_data, \n",
        "  cmap='plasma',\n",
        "  sides='twosided')"
      ],
      "metadata": {
        "id": "C2EG48ypB_of"
      },
      "execution_count": null,
      "outputs": []
    },
    {
      "cell_type": "code",
      "source": [
        "pluto.draw_spectrogram(pluto.audio_control_dmajor,\n",
        "  window=matplotlib.mlab.window_none,\n",
        "  sides='twosided',\n",
        "  mode='angle')"
      ],
      "metadata": {
        "id": "kyU77MWAB_r9"
      },
      "execution_count": null,
      "outputs": []
    },
    {
      "cell_type": "code",
      "source": [
        "pluto.draw_spectrogram(pluto.df_sound_data,\n",
        "  cmap='brg',\n",
        "  window=matplotlib.mlab.window_none,\n",
        "  sides='twosided',\n",
        "  mode='angle')"
      ],
      "metadata": {
        "id": "LtjkWQXeJxki"
      },
      "execution_count": null,
      "outputs": []
    },
    {
      "cell_type": "code",
      "source": [
        "# chiqwawa barking"
      ],
      "metadata": {
        "id": "zXUrPoScn-Ba"
      },
      "execution_count": null,
      "outputs": []
    },
    {
      "cell_type": "code",
      "source": [
        "pluto.draw_melspectrogram(pluto.audio_control_dmajor)"
      ],
      "metadata": {
        "id": "7QEdDUaIJxn3"
      },
      "execution_count": null,
      "outputs": []
    },
    {
      "cell_type": "code",
      "source": [
        "pluto.draw_melspectrogram(pluto.df_voice_data, cmap='cool')"
      ],
      "metadata": {
        "id": "_A_uUwyrJxrM"
      },
      "execution_count": null,
      "outputs": []
    },
    {
      "cell_type": "code",
      "source": [
        "# woman, that is exactly what happens\n",
        "pluto.fname_id"
      ],
      "metadata": {
        "id": "f1x8PafXoJoE"
      },
      "execution_count": null,
      "outputs": []
    },
    {
      "cell_type": "code",
      "source": [
        "pluto.draw_melspectrogram(pluto.audio_control_dmajor, is_chroma=True)"
      ],
      "metadata": {
        "id": "yu0PF8YHWWjB"
      },
      "execution_count": null,
      "outputs": []
    },
    {
      "cell_type": "code",
      "source": [
        "pluto.draw_melspectrogram(pluto.df_music_data, is_chroma=True, cmap='plasma')"
      ],
      "metadata": {
        "id": "rbtwFGkBJxvp"
      },
      "execution_count": null,
      "outputs": []
    },
    {
      "cell_type": "code",
      "source": [
        "# cinamic strong violen"
      ],
      "metadata": {
        "id": "V1--shg5oTF4"
      },
      "execution_count": null,
      "outputs": []
    },
    {
      "cell_type": "code",
      "source": [
        "pluto.draw_melspectrogram(pluto.df_sound_data, is_chroma=True, cmap='brg')"
      ],
      "metadata": {
        "id": "Ldhm5LVqWWmf"
      },
      "execution_count": null,
      "outputs": []
    },
    {
      "cell_type": "markdown",
      "source": [
        "# Time shift"
      ],
      "metadata": {
        "id": "PukgLsehH7RK"
      }
    },
    {
      "cell_type": "code",
      "source": [
        "# %CARRY-OVER\n",
        "\n",
        "!pip install audiomentations"
      ],
      "metadata": {
        "id": "KTxX760Qr9rT"
      },
      "execution_count": null,
      "outputs": []
    },
    {
      "cell_type": "code",
      "source": [
        "# %%writefile -a {pluto_chapter_7}\n",
        "\n",
        "import audiomentations\n",
        "#\n",
        "@add_method(PacktDataAug)\n",
        "def _fetch_1_sample(self, df, dsize=1):\n",
        "  p = df.sample(dsize)\n",
        "  p.reset_index(drop=True, inplace=True)\n",
        "  return p.fname[0]\n",
        "#\n",
        "@add_method(PacktDataAug)\n",
        "def _audio_transform(self, df, xtransform, title='',is_waveform=True):\n",
        "  if (type(df) is list):\n",
        "    data_amp, sam_rate, fname, lname = self.audio_control_dmajor\n",
        "  else:\n",
        "    lname = self._fetch_1_sample(df)\n",
        "    data_amp, sam_rate, fname = self._fetch_audio_data(lname)\n",
        "  #\n",
        "  xaug = xtransform(data_amp, sample_rate=sam_rate)\n",
        "  if (is_waveform):\n",
        "    # augmented\n",
        "    self._draw_audio(xaug, sam_rate, title + ' Augmented: ' + fname)\n",
        "    display(IPython.display.Audio(xaug, rate=sam_rate))\n",
        "    # original\n",
        "    self._draw_audio(data_amp, sam_rate, 'Original: ' + fname)\n",
        "  else:\n",
        "    xdata = [xaug, sam_rate, fname, 'cat']\n",
        "    self.draw_spectrogram(xdata)\n",
        "    self.draw_melspectrogram(xdata)\n",
        "    self.draw_melspectrogram(xdata,is_chroma=True)\n",
        "  display(IPython.display.Audio(data_amp, rate=sam_rate))\n",
        "  return "
      ],
      "metadata": {
        "id": "6WFJJUPJB9mu"
      },
      "execution_count": null,
      "outputs": []
    },
    {
      "cell_type": "code",
      "source": [
        "# %%writefile -a {pluto_chapter_7}\n",
        "\n",
        "@add_method(PacktDataAug)\n",
        "def play_aug_time_shift(self, df, min_fraction=-0.2,\n",
        "  max_fraction=0.8,rollover=True,title='Time Shift', is_waveform=True):\n",
        "  xtransform = audiomentations.Shift(\n",
        "    min_fraction = min_fraction,\n",
        "    max_fraction = max_fraction,\n",
        "    rollover = rollover,\n",
        "    p=1.0\n",
        "  )\n",
        "  self._audio_transform(df, xtransform, title=title,is_waveform=is_waveform)\n",
        "  return "
      ],
      "metadata": {
        "id": "V5FLws7qC6NO"
      },
      "execution_count": null,
      "outputs": []
    },
    {
      "cell_type": "code",
      "source": [
        "pluto.play_aug_time_shift(pluto.audio_control_dmajor, min_fraction=0.8)"
      ],
      "metadata": {
        "id": "u15bwOFWMi3f"
      },
      "execution_count": null,
      "outputs": []
    },
    {
      "cell_type": "code",
      "source": [
        "pluto.play_aug_time_shift(pluto.audio_control_dmajor, min_fraction=0.8, is_waveform=False)"
      ],
      "metadata": {
        "id": "eMvYsxTDQ2JZ"
      },
      "execution_count": null,
      "outputs": []
    },
    {
      "cell_type": "code",
      "source": [
        "pluto.play_aug_time_shift(pluto.df_voice_data, min_fraction=0.6, is_waveform=False)"
      ],
      "metadata": {
        "id": "LllZAQK2SxxX"
      },
      "execution_count": null,
      "outputs": []
    },
    {
      "cell_type": "markdown",
      "source": [
        "# Time stretch"
      ],
      "metadata": {
        "id": "1EWF8w9DxGP9"
      }
    },
    {
      "cell_type": "code",
      "source": [
        "# %%writefile -a {pluto_chapter_7}\n",
        "\n",
        "@add_method(PacktDataAug)\n",
        "def play_aug_time_stretch(self, df, min_rate=0.2,max_rate=6.8,\n",
        "  leave_length_unchanged=True,title='Time Stretch',\n",
        "  is_waveform=True):\n",
        "  xtransform = audiomentations.TimeStretch(\n",
        "    min_rate = min_rate,\n",
        "    max_rate = max_rate,\n",
        "    leave_length_unchanged = leave_length_unchanged,\n",
        "    p=1.0\n",
        "  )\n",
        "  self._audio_transform(df, xtransform, title=title, is_waveform=is_waveform)\n",
        "  return \n",
        "  # librosa.effects.time_stretch under the hood "
      ],
      "metadata": {
        "id": "AvtnmRBJMi7e"
      },
      "execution_count": null,
      "outputs": []
    },
    {
      "cell_type": "code",
      "source": [
        "pluto.play_aug_time_stretch(pluto.audio_control_dmajor, max_rate=5.4, is_waveform=False)"
      ],
      "metadata": {
        "id": "-5SWv7o2hvmM"
      },
      "execution_count": null,
      "outputs": []
    },
    {
      "cell_type": "code",
      "source": [
        "# pluto.play_aug_time_stretch(pluto.df_music_data, max_rate=3.0)"
      ],
      "metadata": {
        "id": "bw7E0ohgx2E0"
      },
      "execution_count": null,
      "outputs": []
    },
    {
      "cell_type": "code",
      "source": [
        "pluto.play_aug_time_stretch(pluto.df_voice_data, max_rate=3.5, is_waveform=False)"
      ],
      "metadata": {
        "id": "S0MZ_zi_x2Il"
      },
      "execution_count": null,
      "outputs": []
    },
    {
      "cell_type": "markdown",
      "source": [
        "# Noise injection, add Gaussian noise"
      ],
      "metadata": {
        "id": "rcNZA9Kl9tMY"
      }
    },
    {
      "cell_type": "code",
      "source": [
        "# %%writefile -a {pluto_chapter_7}\n",
        "\n",
        "@add_method(PacktDataAug)\n",
        "def play_aug_noise_injection(self, df, min_amplitude=0.002,\n",
        "  max_amplitude=0.2,title='Gaussian noise injection',is_waveform=True):\n",
        "  xtransform = audiomentations.AddGaussianNoise(\n",
        "    min_amplitude = min_amplitude,\n",
        "    max_amplitude = max_amplitude,\n",
        "    p=1.0)\n",
        "  self._audio_transform(df, xtransform, title=title, is_waveform=is_waveform)\n",
        "  return"
      ],
      "metadata": {
        "id": "cgPOfP4g9tfg"
      },
      "execution_count": null,
      "outputs": []
    },
    {
      "cell_type": "code",
      "source": [
        "pluto.play_aug_noise_injection(pluto.audio_control_dmajor, \n",
        "  min_amplitude=0.02,max_amplitude=0.05,is_waveform=False)"
      ],
      "metadata": {
        "id": "cV7Fi5Rd9tir"
      },
      "execution_count": null,
      "outputs": []
    },
    {
      "cell_type": "code",
      "source": [
        "pluto.play_aug_noise_injection(pluto.df_music_data, \n",
        "  min_amplitude=0.008,max_amplitude=0.05,is_waveform=False)"
      ],
      "metadata": {
        "id": "BFegcPlsVo5g"
      },
      "execution_count": null,
      "outputs": []
    },
    {
      "cell_type": "code",
      "source": [
        "pluto.play_aug_noise_injection(pluto.df_voice_data, max_amplitude=0.05, is_waveform=False)"
      ],
      "metadata": {
        "id": "XkLvL-KY7kbD"
      },
      "execution_count": null,
      "outputs": []
    },
    {
      "cell_type": "markdown",
      "source": [
        "# Push up all changes (Optional)"
      ],
      "metadata": {
        "id": "LEj7fgaIN9_S"
      }
    },
    {
      "cell_type": "markdown",
      "source": [
        "- username: duchaba\n",
        "\n",
        "- password: [use the token]"
      ],
      "metadata": {
        "id": "lHXRf21BT9N8"
      }
    },
    {
      "cell_type": "code",
      "source": [
        "# import os\n",
        "# f = 'Data-Augmentation-with-Python'\n",
        "# os.chdir(f)\n",
        "# !git add -A\n",
        "# !git config --global user.email \"duc.haba@gmail.com\"\n",
        "# !git config --global user.name \"duchaba\"\n",
        "# !git commit -m \"end of session\"\n",
        "# # do the git push in the xterm console\n",
        "# #!git push"
      ],
      "metadata": {
        "id": "eSXJKJFlOEeE"
      },
      "execution_count": null,
      "outputs": []
    },
    {
      "cell_type": "code",
      "source": [
        "# %%script false --no-raise-error  #temporary stop execute for export file"
      ],
      "metadata": {
        "id": "JMJgBjC1Px5A"
      },
      "execution_count": null,
      "outputs": []
    },
    {
      "cell_type": "code",
      "source": [
        "# # compress/zip all the pluto generated images from this chapter for download\n",
        "# f = 'pluto-img-'+str(pluto.fname_id)+'.zip'\n",
        "# print(f)\n",
        "# !zip {f} /content/Data-Augmentation-with-Python/pluto_img/*"
      ],
      "metadata": {
        "id": "AtZLtans4GCH"
      },
      "execution_count": null,
      "outputs": []
    },
    {
      "cell_type": "markdown",
      "metadata": {
        "id": "EzO7lDYDWeLz"
      },
      "source": [
        "# Summary "
      ]
    },
    {
      "cell_type": "markdown",
      "metadata": {
        "id": "X2iUPf3EWePd"
      },
      "source": [
        "Every chaper will begin with same base class \"PacktDataAug\".\n",
        "\n",
        "✋ FAIR WARNING:\n",
        "\n",
        "- The coding uses long and complete function path name.\n",
        "\n",
        "- Pluto wrote the code for easy to understand and not for compactness, fast execution, nor cleaverness.\n",
        "\n",
        "- Use Xterm to debug cloud server\n",
        "\n"
      ]
    },
    {
      "cell_type": "code",
      "source": [
        "# !pip install colab-xterm\n",
        "# %load_ext colabxterm\n",
        "# %xterm"
      ],
      "metadata": {
        "id": "vXRG3KaeWbGx"
      },
      "execution_count": null,
      "outputs": []
    }
  ],
  "metadata": {
    "kernelspec": {
      "display_name": "Python 3",
      "name": "python3"
    },
    "language_info": {
      "name": "python"
    },
    "colab": {
      "provenance": [],
      "collapsed_sections": [
        "EzO7lDYDWeLz"
      ],
      "toc_visible": true,
      "include_colab_link": true
    },
    "gpuClass": "standard",
    "accelerator": "GPU"
  },
  "nbformat": 4,
  "nbformat_minor": 0
}